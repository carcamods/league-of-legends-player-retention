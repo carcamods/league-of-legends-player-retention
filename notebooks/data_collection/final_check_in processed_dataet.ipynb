{
 "cells": [
  {
   "cell_type": "code",
   "execution_count": 1,
   "metadata": {},
   "outputs": [
    {
     "name": "stdout",
     "output_type": "stream",
     "text": [
      "   rank                        time_group  count\n",
      "0     I         Active Players (1-7 days)    100\n",
      "1     I     At Risk of Churn (41-60 days)    100\n",
      "2     I             Beyond 60 days - Lost    100\n",
      "3     I      Highly Inactive (29-40 days)    100\n",
      "4     I  Moderately Inactive (15-28 days)    100\n",
      "5     I     Slightly Inactive (8-14 days)    100\n",
      "6    II         Active Players (1-7 days)    100\n",
      "7    II     At Risk of Churn (41-60 days)    100\n",
      "8    II             Beyond 60 days - Lost    100\n",
      "9    II      Highly Inactive (29-40 days)     97\n",
      "10   II  Moderately Inactive (15-28 days)    100\n",
      "11   II     Slightly Inactive (8-14 days)    100\n",
      "12  III         Active Players (1-7 days)    100\n",
      "13  III     At Risk of Churn (41-60 days)    100\n",
      "14  III             Beyond 60 days - Lost    100\n",
      "15  III      Highly Inactive (29-40 days)    100\n",
      "16  III  Moderately Inactive (15-28 days)    100\n",
      "17  III     Slightly Inactive (8-14 days)    100\n",
      "18   IV         Active Players (1-7 days)    100\n",
      "19   IV     At Risk of Churn (41-60 days)    100\n",
      "20   IV             Beyond 60 days - Lost    100\n",
      "21   IV      Highly Inactive (29-40 days)    100\n",
      "22   IV  Moderately Inactive (15-28 days)    100\n",
      "23   IV     Slightly Inactive (8-14 days)    100\n"
     ]
    }
   ],
   "source": [
    "import pandas as pd\n",
    "import os\n",
    "\n",
    "# Load the processed data from the CSV file\n",
    "processed_match_details_csv = '../data/processed/match_details_cleaned.csv'\n",
    "processed_entries_csv = '../data/processed/entries.csv'\n",
    "\n",
    "# Ensure the processed CSV files exist\n",
    "for file in [processed_match_details_csv, processed_entries_csv]:\n",
    "    if not os.path.exists(file):\n",
    "        print(f\"{file} not found.\")\n",
    "        exit()\n",
    "\n",
    "# Load the data into pandas DataFrames\n",
    "processed_match_details_df = pd.read_csv(processed_match_details_csv)\n",
    "processed_entries_df = pd.read_csv(processed_entries_csv)\n",
    "\n",
    "# Convert 'game_creation' to datetime format in the processed match_details\n",
    "processed_match_details_df['game_creation_converted'] = pd.to_datetime(processed_match_details_df['game_creation'], unit='ms')\n",
    "\n",
    "# Calculate the difference in days\n",
    "today = pd.Timestamp.now()\n",
    "processed_match_details_df['days_diff'] = (today - processed_match_details_df['game_creation_converted']).dt.days\n",
    "\n",
    "# Define the groups based on days_diff (same as before)\n",
    "def assign_time_group(days):\n",
    "    if days <= 7:\n",
    "        return 'Active Players (1-7 days)'\n",
    "    elif 8 <= days <= 14:\n",
    "        return 'Slightly Inactive (8-14 days)'\n",
    "    elif 15 <= days <= 28:\n",
    "        return 'Moderately Inactive (15-28 days)'\n",
    "    elif 29 <= days <= 40:\n",
    "        return 'Highly Inactive (29-40 days)'\n",
    "    elif 41 <= days <= 60:\n",
    "        return 'At Risk of Churn (41-60 days)'\n",
    "    else:\n",
    "        return 'Beyond 60 days - Lost'\n",
    "\n",
    "# Apply the function to create the time groups\n",
    "processed_match_details_df['time_group'] = processed_match_details_df['days_diff'].apply(assign_time_group)\n",
    "\n",
    "# Merge the processed match_details with the processed entries to get the rank information\n",
    "combined_processed_data = pd.merge(processed_match_details_df, processed_entries_df, on='summoner_id', how='left')\n",
    "\n",
    "# Group by rank and time_group to count the number of summoners in each group\n",
    "grouped_processed_results = combined_processed_data.groupby(['rank', 'time_group']).size().reset_index(name='count')\n",
    "\n",
    "# Print the grouped results to see where the shortfall is\n",
    "print(grouped_processed_results)\n"
   ]
  }
 ],
 "metadata": {
  "kernelspec": {
   "display_name": "Python 3",
   "language": "python",
   "name": "python3"
  },
  "language_info": {
   "codemirror_mode": {
    "name": "ipython",
    "version": 3
   },
   "file_extension": ".py",
   "mimetype": "text/x-python",
   "name": "python",
   "nbconvert_exporter": "python",
   "pygments_lexer": "ipython3",
   "version": "3.12.5"
  }
 },
 "nbformat": 4,
 "nbformat_minor": 2
}
