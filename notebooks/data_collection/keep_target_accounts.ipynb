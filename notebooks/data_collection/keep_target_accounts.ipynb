{
 "cells": [
  {
   "cell_type": "code",
   "execution_count": 2,
   "metadata": {},
   "outputs": [
    {
     "name": "stdout",
     "output_type": "stream",
     "text": [
      "Filtered data saved in the raw folder.\n"
     ]
    }
   ],
   "source": [
    "import pandas as pd\n",
    "import os\n",
    "from datetime import datetime\n",
    "\n",
    "# Define file paths for your CSV data\n",
    "match_details_csv = '../data/raw/match_details.csv'\n",
    "entries_csv = '../data/raw/entries.csv'\n",
    "match_ids_csv = '../data/raw/match_ids.csv'\n",
    "summoner_details_csv = '../data/raw/summoner_details.csv'\n",
    "\n",
    "# Ensure all CSV files exist\n",
    "for file in [match_details_csv, entries_csv, match_ids_csv, summoner_details_csv]:\n",
    "    if not os.path.exists(file):\n",
    "        print(f\"{file} not found.\")\n",
    "        exit()\n",
    "\n",
    "# Load the data into pandas DataFrames\n",
    "match_details_df = pd.read_csv(match_details_csv)\n",
    "entries_df = pd.read_csv(entries_csv)\n",
    "match_ids_df = pd.read_csv(match_ids_csv)\n",
    "summoner_details_df = pd.read_csv(summoner_details_csv)\n",
    "\n",
    "# Convert 'game_creation' column (which should be in milliseconds) to datetime\n",
    "match_details_df['game_creation_converted'] = pd.to_datetime(match_details_df['game_creation'], unit='ms')\n",
    "\n",
    "# Calculate the difference in days from today\n",
    "today = pd.Timestamp.now()\n",
    "match_details_df['days_diff'] = (today - match_details_df['game_creation_converted']).dt.days\n",
    "\n",
    "# Now filter match details for accounts whose last match is between 29-40 days ago\n",
    "filtered_match_details = match_details_df[(match_details_df['days_diff'] >= 29) & (match_details_df['days_diff'] <= 40)]\n",
    "\n",
    "# Get the summoner_ids of the filtered accounts\n",
    "filtered_summoner_ids = filtered_match_details['summoner_id'].unique()\n",
    "\n",
    "# Filter entries, match_ids, and summoner_details based on the filtered summoner_ids\n",
    "filtered_entries = entries_df[entries_df['summoner_id'].isin(filtered_summoner_ids)]\n",
    "filtered_match_ids = match_ids_df[match_ids_df['puuid'].isin(summoner_details_df[summoner_details_df['summoner_id'].isin(filtered_summoner_ids)]['puuid'])]\n",
    "filtered_summoner_details = summoner_details_df[summoner_details_df['summoner_id'].isin(filtered_summoner_ids)]\n",
    "\n",
    "# Save the cleaned and filtered data into the raw folder\n",
    "filtered_match_details.to_csv(f'../data/raw/match_details_filtered.csv', index=False)\n",
    "filtered_entries.to_csv(f'../data/raw/entries_filtered.csv', index=False)\n",
    "filtered_match_ids.to_csv(f'../data/raw/match_ids_filtered.csv', index=False)\n",
    "filtered_summoner_details.to_csv(f'../data/raw/summoner_details_filtered.csv', index=False)\n",
    "\n",
    "print(f\"Filtered data saved in the raw folder.\")\n"
   ]
  }
 ],
 "metadata": {
  "kernelspec": {
   "display_name": "Python 3",
   "language": "python",
   "name": "python3"
  },
  "language_info": {
   "codemirror_mode": {
    "name": "ipython",
    "version": 3
   },
   "file_extension": ".py",
   "mimetype": "text/x-python",
   "name": "python",
   "nbconvert_exporter": "python",
   "pygments_lexer": "ipython3",
   "version": "3.12.5"
  }
 },
 "nbformat": 4,
 "nbformat_minor": 2
}
