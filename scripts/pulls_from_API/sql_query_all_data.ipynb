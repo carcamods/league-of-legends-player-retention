{
 "cells": [
  {
   "cell_type": "code",
   "execution_count": 1,
   "metadata": {},
   "outputs": [
    {
     "name": "stdout",
     "output_type": "stream",
     "text": [
      "Empty DataFrame\n",
      "Columns: [match_id, game_creation, game_duration, game_mode, game_type, game_version, map_id, participant_id, summoner_id, puuid, champion_id, spell1_id, spell2_id, item0, item1, item2, item3, item4, item5, item6, kills, deaths, assists, total_damage_dealt, total_damage_taken, gold_earned, vision_score, total_minions_killed, team_position, win, game_creation_converted]\n",
      "Index: []\n",
      "\n",
      "[0 rows x 31 columns]\n"
     ]
    },
    {
     "name": "stderr",
     "output_type": "stream",
     "text": [
      "C:\\Users\\matia\\AppData\\Local\\Temp\\ipykernel_5076\\356503531.py:24: UserWarning: pandas only supports SQLAlchemy connectable (engine/connection) or database string URI or sqlite3 DBAPI2 connection. Other DBAPI2 objects are not tested. Please consider using SQLAlchemy.\n",
      "  df = pd.read_sql_query(query, conn)\n"
     ]
    }
   ],
   "source": [
    "import mysql.connector\n",
    "import pandas as pd\n",
    "\n",
    "# Database connection info\n",
    "db_config = {\n",
    "    'user': 'lol_user',\n",
    "    'password': 'your_password',\n",
    "    'host': '35.203.46.85',\n",
    "    'database': 'lol_retention'\n",
    "}\n",
    "\n",
    "# Establish a database connection\n",
    "conn = mysql.connector.connect(**db_config)\n",
    "\n",
    "# Create a query to select rows from match_details where puuid exists in summoner_details\n",
    "query = \"\"\"\n",
    "    SELECT md.*\n",
    "    FROM match_details md\n",
    "    JOIN summoner_details sd ON md.puuid = sd.puuid\n",
    "    ORDER BY md.game_creation_converted DESC;\n",
    "\"\"\"\n",
    "\n",
    "# Execute the query and load the data into a pandas DataFrame\n",
    "df = pd.read_sql_query(query, conn)\n",
    "\n",
    "# Display the results\n",
    "print(df)\n",
    "\n",
    "# Close the connection\n",
    "conn.close()"
   ]
  },
  {
   "cell_type": "code",
   "execution_count": 4,
   "metadata": {},
   "outputs": [
    {
     "name": "stdout",
     "output_type": "stream",
     "text": [
      "PUUIDs from match_details: []\n",
      "PUUIDs from summoner_details: [('_98yPS6M0QqTxzdHdIz981w4DXVPxfuas3QALNKGVQyHHdDAD2T2OTJsodNk0NONP_RVZkO_b7GJGw',), ('_9tsHDb6YOTFCRHz04GOwB8P4UdoTjreLuT39XJc6ISEpDI_L5-2uBXG_BEgjdog7M4HfWaoRygmxA',), ('_GTr0pktiHkmNKvveTiDroe9xAeFiaTWRaAR8HEf__oln5Fn18A1rwNiMaQB3NvqFO352Qm_XSKR3w',), ('_I0iRHHwe6FfpJM9qYecvA_gWbhvkkxaQwjOcB0rmCRgGpfdSiB4f2YG0pGUegCoAw5uFEc3W3JcJg',), ('_kvutf7fWElODDf4STEy5lfnCDa41t95e4r0KjNcf7uAO3J1Rcwaq3kCoZDK2mep-FP6qeTs8bD86Q',)]\n"
     ]
    }
   ],
   "source": [
    "# Database connection info\n",
    "db_config = {\n",
    "    'user': 'lol_user',\n",
    "    'password': 'your_password',\n",
    "    'host': '35.203.46.85',\n",
    "    'database': 'lol_retention'\n",
    "}\n",
    "\n",
    "# Establish a database connection\n",
    "conn = mysql.connector.connect(**db_config)\n",
    "\n",
    "\n",
    "cursor = conn.cursor()\n",
    "# Check PUUIDs in match_details\n",
    "query_match_details = \"SELECT DISTINCT puuid FROM match_details LIMIT 5;\"\n",
    "cursor.execute(query_match_details)\n",
    "match_details_puuids = cursor.fetchall()\n",
    "print(\"PUUIDs from match_details:\", match_details_puuids)\n",
    "\n",
    "# Check PUUIDs in summoner_details\n",
    "query_summoner_details = \"SELECT DISTINCT puuid FROM summoner_details LIMIT 5;\"\n",
    "cursor.execute(query_summoner_details)\n",
    "summoner_details_puuids = cursor.fetchall()\n",
    "print(\"PUUIDs from summoner_details:\", summoner_details_puuids)"
   ]
  }
 ],
 "metadata": {
  "kernelspec": {
   "display_name": "Python 3",
   "language": "python",
   "name": "python3"
  },
  "language_info": {
   "codemirror_mode": {
    "name": "ipython",
    "version": 3
   },
   "file_extension": ".py",
   "mimetype": "text/x-python",
   "name": "python",
   "nbconvert_exporter": "python",
   "pygments_lexer": "ipython3",
   "version": "3.12.5"
  }
 },
 "nbformat": 4,
 "nbformat_minor": 2
}
