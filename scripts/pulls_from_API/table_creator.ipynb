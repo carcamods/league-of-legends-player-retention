{
 "cells": [
  {
   "cell_type": "code",
   "execution_count": 3,
   "metadata": {},
   "outputs": [
    {
     "name": "stdout",
     "output_type": "stream",
     "text": [
      "Defaulting to user installation because normal site-packages is not writeable\n",
      "Collecting mysql-connector-python\n",
      "  Downloading mysql_connector_python-9.0.0-cp312-cp312-win_amd64.whl.metadata (2.0 kB)\n",
      "Downloading mysql_connector_python-9.0.0-cp312-cp312-win_amd64.whl (14.3 MB)\n",
      "   ---------------------------------------- 0.0/14.3 MB ? eta -:--:--\n",
      "    --------------------------------------- 0.3/14.3 MB ? eta -:--:--\n",
      "   ----- ---------------------------------- 2.1/14.3 MB 5.6 MB/s eta 0:00:03\n",
      "   -------- ------------------------------- 3.1/14.3 MB 6.1 MB/s eta 0:00:02\n",
      "   ----------- ---------------------------- 4.2/14.3 MB 5.2 MB/s eta 0:00:02\n",
      "   ------------------- -------------------- 7.1/14.3 MB 7.0 MB/s eta 0:00:02\n",
      "   --------------------- ------------------ 7.9/14.3 MB 6.6 MB/s eta 0:00:01\n",
      "   -------------------------- ------------- 9.4/14.3 MB 6.7 MB/s eta 0:00:01\n",
      "   ------------------------------- -------- 11.3/14.3 MB 7.0 MB/s eta 0:00:01\n",
      "   ----------------------------------- ---- 12.8/14.3 MB 7.1 MB/s eta 0:00:01\n",
      "   ---------------------------------------  14.2/14.3 MB 7.2 MB/s eta 0:00:01\n",
      "   ---------------------------------------- 14.3/14.3 MB 6.9 MB/s eta 0:00:00\n",
      "Installing collected packages: mysql-connector-python\n",
      "Successfully installed mysql-connector-python-9.0.0\n"
     ]
    },
    {
     "name": "stderr",
     "output_type": "stream",
     "text": [
      "WARNING: Ignoring invalid distribution ~orch (C:\\Users\\matia\\AppData\\Local\\Packages\\PythonSoftwareFoundation.Python.3.12_qbz5n2kfra8p0\\LocalCache\\local-packages\\Python312\\site-packages)\n",
      "WARNING: Ignoring invalid distribution ~orch (C:\\Users\\matia\\AppData\\Local\\Packages\\PythonSoftwareFoundation.Python.3.12_qbz5n2kfra8p0\\LocalCache\\local-packages\\Python312\\site-packages)\n",
      "WARNING: Ignoring invalid distribution ~orch (C:\\Users\\matia\\AppData\\Local\\Packages\\PythonSoftwareFoundation.Python.3.12_qbz5n2kfra8p0\\LocalCache\\local-packages\\Python312\\site-packages)\n"
     ]
    }
   ],
   "source": [
    "#!pip install mysql\n",
    "#!pip install mysql-connector-python"
   ]
  },
  {
   "cell_type": "code",
   "execution_count": 7,
   "metadata": {},
   "outputs": [
    {
     "name": "stdout",
     "output_type": "stream",
     "text": [
      "entries table created successfully.\n"
     ]
    }
   ],
   "source": [
    "import mysql.connector\n",
    "from mysql.connector import errorcode\n",
    "\n",
    "def create_summoner_table():\n",
    "    try:\n",
    "        # Connect to your MySQL database\n",
    "        cnx = mysql.connector.connect(user='lol_user', password='your_password',\n",
    "                                      host='34.95.53.67', database='lol_retention')\n",
    "        cursor = cnx.cursor()\n",
    "\n",
    "        # Create table query\n",
    "        create_table_query = \"\"\"\n",
    "        CREATE TABLE IF NOT EXISTS entries (\n",
    "            id INT AUTO_INCREMENT PRIMARY KEY,\n",
    "            league_id VARCHAR(255),\n",
    "            queue_type VARCHAR(50),\n",
    "            tier VARCHAR(50),\n",
    "            `rank` VARCHAR(10),\n",
    "            summoner_id VARCHAR(78) NOT NULL UNIQUE,\n",
    "            league_points INT,\n",
    "            wins INT,\n",
    "            losses INT,\n",
    "            veteran BOOLEAN,\n",
    "            inactive BOOLEAN,\n",
    "            fresh_blood BOOLEAN,\n",
    "            hot_streak BOOLEAN,\n",
    "            retrieval_time TIMESTAMP DEFAULT CURRENT_TIMESTAMP\n",
    "        )\n",
    "        \"\"\"\n",
    "        cursor.execute(create_table_query)\n",
    "        print(\"entries table created successfully.\")\n",
    "\n",
    "    except mysql.connector.Error as err:\n",
    "        if err.errno == errorcode.ER_TABLE_EXISTS_ERROR:\n",
    "            print(\"Table already exists.\")\n",
    "        else:\n",
    "            print(err.msg)\n",
    "    else:\n",
    "        cursor.close()\n",
    "        cnx.close()\n",
    "\n",
    "if __name__ == \"__main__\":\n",
    "    create_summoner_table()"
   ]
  }
 ],
 "metadata": {
  "kernelspec": {
   "display_name": "Python 3",
   "language": "python",
   "name": "python3"
  },
  "language_info": {
   "codemirror_mode": {
    "name": "ipython",
    "version": 3
   },
   "file_extension": ".py",
   "mimetype": "text/x-python",
   "name": "python",
   "nbconvert_exporter": "python",
   "pygments_lexer": "ipython3",
   "version": "3.12.5"
  }
 },
 "nbformat": 4,
 "nbformat_minor": 2
}
